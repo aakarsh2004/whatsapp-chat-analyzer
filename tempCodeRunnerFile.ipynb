
    pattern = r'\d{1,2}\/\d{1,2}\/\d{2},\s\d{1,2}:\d{2}\s[APap][Mm]\s-\s'

    messages = re.split(pattern, data)[1:]